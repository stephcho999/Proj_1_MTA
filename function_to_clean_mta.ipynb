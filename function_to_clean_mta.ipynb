{
 "cells": [
  {
   "cell_type": "code",
   "execution_count": null,
   "metadata": {},
   "outputs": [],
   "source": [
    "def clean_mta(turnstiles_df):\n",
    "    \"\"\"\n",
    "    Converts input MTA data from total cumulative counts per \n",
    "    turnstile to new entries and exits at the time of each record. \n",
    "    Also adds datetime.\n",
    "    \n",
    "    \n",
    "    \"\"\"\n",
    "    \n",
    "    #convert column names to lower case and eliminate trailing spaces\n",
    "    turnstiles_df.columns = map(lambda x: x.lower().replace(' ',''),\n",
    "        turnstiles_df.columns)\n",
    "    \n",
    "    #sort by specific turnstiles and add converted counts\n",
    "    df = turnstiles_df.sort_values(by = ['c/a','unit','scp','station',\n",
    "        'linename','date','time'])\n",
    "    df['coming'] = df['entries'].diff()\n",
    "    df['going'] = df['exits'].diff()\n",
    "    \n",
    "    #add id to identify turnstiles with one column\n",
    "    df['id'] = df['c/a']+df['unit']+df['scp']+df['station']+df['linename']\n",
    "    \n",
    "    #eliminate edges between different turnstiles\n",
    "    mask = (df.id == df.id.shift(1)) & (df.id == df.id.shift(-1))\n",
    "    df[['coming', 'going']] = df[['coming','going']].where(mask,\n",
    "        other=np.nan)\n",
    "    \n",
    "    def rollover_correcter(value):\n",
    "        #normal/possible values\n",
    "        if 0 < value < 5000:\n",
    "            return value\n",
    "        #correct for turnstiles that are running backwards\n",
    "        elif -5000 < value < 0:\n",
    "            return -value\n",
    "        #correct for turnstiles that have rolled over\n",
    "        elif -2147483647 <= (value) < -2147478647:\n",
    "            return value+2147483647\n",
    "        #correct for backwards turnstiles that have rolled over\n",
    "        elif 2147478647 < value <= 2147483647:\n",
    "            return 2147483647-value\n",
    "        #throw out unknown issues\n",
    "        else:\n",
    "            return np.nan\n",
    "    \n",
    "    df['entries'] = df.coming.apply(rollover_correcter)\n",
    "    df['exits'] = df.going.apply(rollover_correcter)\n",
    "    df.dropna(inplace=True)\n",
    "    df['datetime'] = pd.to_datetime(df['date']+' '+df['time'])\n",
    "    df.drop('coming', axis=1, inplace=True)\n",
    "    df.drop('going', axis=1, inplace=True)\n",
    "    df.drop('id', axis=1, inplace=True)\n",
    "    return df"
   ]
  }
 ],
 "metadata": {
  "kernelspec": {
   "display_name": "Python 3",
   "language": "python",
   "name": "python3"
  },
  "language_info": {
   "codemirror_mode": {
    "name": "ipython",
    "version": 3
   },
   "file_extension": ".py",
   "mimetype": "text/x-python",
   "name": "python",
   "nbconvert_exporter": "python",
   "pygments_lexer": "ipython3",
   "version": "3.7.6"
  }
 },
 "nbformat": 4,
 "nbformat_minor": 4
}
