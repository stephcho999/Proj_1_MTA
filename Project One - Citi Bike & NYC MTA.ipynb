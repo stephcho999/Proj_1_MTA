{
 "cells": [
  {
   "cell_type": "code",
   "execution_count": 143,
   "metadata": {},
   "outputs": [],
   "source": [
    "import pandas as pd\n",
    "import numpy as np\n",
    "import os \n",
    "import glob, os\n",
    "from scipy import stats\n",
    "from geopy.distance import great_circle\n",
    "from geopy.distance import geodesic\n",
    "import geopandas\n",
    "import contextily as ctx\n",
    "import matplotlib.pyplot as plt\n",
    "import seaborn as sns\n",
    "%matplotlib inline "
   ]
  },
  {
   "cell_type": "markdown",
   "metadata": {},
   "source": [
    "# Create JANUARY - MAY 2019,2020 CitiBike Data Frame"
   ]
  },
  {
   "cell_type": "code",
   "execution_count": 2,
   "metadata": {},
   "outputs": [],
   "source": [
    "\n",
    "#Get 2019,2020 citibike into dataframes, loop through folder, and put data frames in a list \n",
    "\n",
    "df_bike_list_2020=[]\n",
    "for filename in glob.iglob('data/citibike/2020/**.csv', recursive=True):\n",
    "    if os.path.isfile(filename): # filter dirs\n",
    "        df_bike_list_2020.append(pd.read_csv(filename))\n",
    "        \n",
    "        \n",
    "df_bike_list_2019=[]\n",
    "for filename in glob.iglob('data/citibike/2019/**.csv', recursive=True):\n",
    "    if os.path.isfile(filename): # filter dirs\n",
    "        df_bike_list_2019.append(pd.read_csv(filename))\n",
    "        \n"
   ]
  },
  {
   "cell_type": "code",
   "execution_count": 3,
   "metadata": {},
   "outputs": [],
   "source": [
    "#create 2019,2020 citibike by concating list of dfs\n",
    "bike_2020_df = pd.concat(df_bike_list_2020)\n",
    "bike_2019_df = pd.concat(df_bike_list_2019)"
   ]
  },
  {
   "cell_type": "code",
   "execution_count": 4,
   "metadata": {},
   "outputs": [
    {
     "name": "stdout",
     "output_type": "stream",
     "text": [
      "(5626535, 15)\n"
     ]
    },
    {
     "data": {
      "text/html": [
       "<div>\n",
       "<style scoped>\n",
       "    .dataframe tbody tr th:only-of-type {\n",
       "        vertical-align: middle;\n",
       "    }\n",
       "\n",
       "    .dataframe tbody tr th {\n",
       "        vertical-align: top;\n",
       "    }\n",
       "\n",
       "    .dataframe thead th {\n",
       "        text-align: right;\n",
       "    }\n",
       "</style>\n",
       "<table border=\"1\" class=\"dataframe\">\n",
       "  <thead>\n",
       "    <tr style=\"text-align: right;\">\n",
       "      <th></th>\n",
       "      <th>tripduration</th>\n",
       "      <th>starttime</th>\n",
       "      <th>stoptime</th>\n",
       "      <th>start station id</th>\n",
       "      <th>start station name</th>\n",
       "      <th>start station latitude</th>\n",
       "      <th>start station longitude</th>\n",
       "      <th>end station id</th>\n",
       "      <th>end station name</th>\n",
       "      <th>end station latitude</th>\n",
       "      <th>end station longitude</th>\n",
       "      <th>bikeid</th>\n",
       "      <th>usertype</th>\n",
       "      <th>birth year</th>\n",
       "      <th>gender</th>\n",
       "    </tr>\n",
       "  </thead>\n",
       "  <tbody>\n",
       "    <tr>\n",
       "      <td>0</td>\n",
       "      <td>789</td>\n",
       "      <td>2020-01-01 00:00:55.3900</td>\n",
       "      <td>2020-01-01 00:14:05.1470</td>\n",
       "      <td>504</td>\n",
       "      <td>1 Ave &amp; E 16 St</td>\n",
       "      <td>40.732219</td>\n",
       "      <td>-73.981656</td>\n",
       "      <td>307</td>\n",
       "      <td>Canal St &amp; Rutgers St</td>\n",
       "      <td>40.714275</td>\n",
       "      <td>-73.989900</td>\n",
       "      <td>30326</td>\n",
       "      <td>Subscriber</td>\n",
       "      <td>1992</td>\n",
       "      <td>1</td>\n",
       "    </tr>\n",
       "    <tr>\n",
       "      <td>1</td>\n",
       "      <td>1541</td>\n",
       "      <td>2020-01-01 00:01:08.1020</td>\n",
       "      <td>2020-01-01 00:26:49.1780</td>\n",
       "      <td>3423</td>\n",
       "      <td>West Drive &amp; Prospect Park West</td>\n",
       "      <td>40.661063</td>\n",
       "      <td>-73.979453</td>\n",
       "      <td>3300</td>\n",
       "      <td>Prospect Park West &amp; 8 St</td>\n",
       "      <td>40.665147</td>\n",
       "      <td>-73.976376</td>\n",
       "      <td>17105</td>\n",
       "      <td>Customer</td>\n",
       "      <td>1969</td>\n",
       "      <td>1</td>\n",
       "    </tr>\n",
       "    <tr>\n",
       "      <td>2</td>\n",
       "      <td>1464</td>\n",
       "      <td>2020-01-01 00:01:42.1400</td>\n",
       "      <td>2020-01-01 00:26:07.0110</td>\n",
       "      <td>3687</td>\n",
       "      <td>E 33 St &amp; 1 Ave</td>\n",
       "      <td>40.743227</td>\n",
       "      <td>-73.974498</td>\n",
       "      <td>259</td>\n",
       "      <td>South St &amp; Whitehall St</td>\n",
       "      <td>40.701221</td>\n",
       "      <td>-74.012342</td>\n",
       "      <td>40177</td>\n",
       "      <td>Subscriber</td>\n",
       "      <td>1963</td>\n",
       "      <td>1</td>\n",
       "    </tr>\n",
       "    <tr>\n",
       "      <td>3</td>\n",
       "      <td>592</td>\n",
       "      <td>2020-01-01 00:01:45.5610</td>\n",
       "      <td>2020-01-01 00:11:38.1550</td>\n",
       "      <td>346</td>\n",
       "      <td>Bank St &amp; Hudson St</td>\n",
       "      <td>40.736529</td>\n",
       "      <td>-74.006180</td>\n",
       "      <td>490</td>\n",
       "      <td>8 Ave &amp; W 33 St</td>\n",
       "      <td>40.751551</td>\n",
       "      <td>-73.993934</td>\n",
       "      <td>27690</td>\n",
       "      <td>Subscriber</td>\n",
       "      <td>1980</td>\n",
       "      <td>1</td>\n",
       "    </tr>\n",
       "    <tr>\n",
       "      <td>4</td>\n",
       "      <td>702</td>\n",
       "      <td>2020-01-01 00:01:45.7880</td>\n",
       "      <td>2020-01-01 00:13:28.2400</td>\n",
       "      <td>372</td>\n",
       "      <td>Franklin Ave &amp; Myrtle Ave</td>\n",
       "      <td>40.694546</td>\n",
       "      <td>-73.958014</td>\n",
       "      <td>3637</td>\n",
       "      <td>Fulton St &amp; Waverly Ave</td>\n",
       "      <td>40.683239</td>\n",
       "      <td>-73.965996</td>\n",
       "      <td>32583</td>\n",
       "      <td>Subscriber</td>\n",
       "      <td>1982</td>\n",
       "      <td>1</td>\n",
       "    </tr>\n",
       "  </tbody>\n",
       "</table>\n",
       "</div>"
      ],
      "text/plain": [
       "   tripduration                 starttime                  stoptime  \\\n",
       "0           789  2020-01-01 00:00:55.3900  2020-01-01 00:14:05.1470   \n",
       "1          1541  2020-01-01 00:01:08.1020  2020-01-01 00:26:49.1780   \n",
       "2          1464  2020-01-01 00:01:42.1400  2020-01-01 00:26:07.0110   \n",
       "3           592  2020-01-01 00:01:45.5610  2020-01-01 00:11:38.1550   \n",
       "4           702  2020-01-01 00:01:45.7880  2020-01-01 00:13:28.2400   \n",
       "\n",
       "   start station id               start station name  start station latitude  \\\n",
       "0               504                  1 Ave & E 16 St               40.732219   \n",
       "1              3423  West Drive & Prospect Park West               40.661063   \n",
       "2              3687                  E 33 St & 1 Ave               40.743227   \n",
       "3               346              Bank St & Hudson St               40.736529   \n",
       "4               372        Franklin Ave & Myrtle Ave               40.694546   \n",
       "\n",
       "   start station longitude  end station id           end station name  \\\n",
       "0               -73.981656             307      Canal St & Rutgers St   \n",
       "1               -73.979453            3300  Prospect Park West & 8 St   \n",
       "2               -73.974498             259    South St & Whitehall St   \n",
       "3               -74.006180             490            8 Ave & W 33 St   \n",
       "4               -73.958014            3637    Fulton St & Waverly Ave   \n",
       "\n",
       "   end station latitude  end station longitude  bikeid    usertype  \\\n",
       "0             40.714275             -73.989900   30326  Subscriber   \n",
       "1             40.665147             -73.976376   17105    Customer   \n",
       "2             40.701221             -74.012342   40177  Subscriber   \n",
       "3             40.751551             -73.993934   27690  Subscriber   \n",
       "4             40.683239             -73.965996   32583  Subscriber   \n",
       "\n",
       "   birth year  gender  \n",
       "0        1992       1  \n",
       "1        1969       1  \n",
       "2        1963       1  \n",
       "3        1980       1  \n",
       "4        1982       1  "
      ]
     },
     "execution_count": 4,
     "metadata": {},
     "output_type": "execute_result"
    }
   ],
   "source": [
    "#2020 citibike\n",
    "\n",
    "print(bike_2020_df.shape)\n",
    "bike_2020_df.head()"
   ]
  },
  {
   "cell_type": "code",
   "execution_count": 5,
   "metadata": {},
   "outputs": [
    {
     "name": "stdout",
     "output_type": "stream",
     "text": [
      "(6929648, 15)\n"
     ]
    },
    {
     "data": {
      "text/html": [
       "<div>\n",
       "<style scoped>\n",
       "    .dataframe tbody tr th:only-of-type {\n",
       "        vertical-align: middle;\n",
       "    }\n",
       "\n",
       "    .dataframe tbody tr th {\n",
       "        vertical-align: top;\n",
       "    }\n",
       "\n",
       "    .dataframe thead th {\n",
       "        text-align: right;\n",
       "    }\n",
       "</style>\n",
       "<table border=\"1\" class=\"dataframe\">\n",
       "  <thead>\n",
       "    <tr style=\"text-align: right;\">\n",
       "      <th></th>\n",
       "      <th>tripduration</th>\n",
       "      <th>starttime</th>\n",
       "      <th>stoptime</th>\n",
       "      <th>start station id</th>\n",
       "      <th>start station name</th>\n",
       "      <th>start station latitude</th>\n",
       "      <th>start station longitude</th>\n",
       "      <th>end station id</th>\n",
       "      <th>end station name</th>\n",
       "      <th>end station latitude</th>\n",
       "      <th>end station longitude</th>\n",
       "      <th>bikeid</th>\n",
       "      <th>usertype</th>\n",
       "      <th>birth year</th>\n",
       "      <th>gender</th>\n",
       "    </tr>\n",
       "  </thead>\n",
       "  <tbody>\n",
       "    <tr>\n",
       "      <td>0</td>\n",
       "      <td>320</td>\n",
       "      <td>2019-01-01 00:01:47.4010</td>\n",
       "      <td>2019-01-01 00:07:07.5810</td>\n",
       "      <td>3160.0</td>\n",
       "      <td>Central Park West &amp; W 76 St</td>\n",
       "      <td>40.778968</td>\n",
       "      <td>-73.973747</td>\n",
       "      <td>3283.0</td>\n",
       "      <td>W 89 St &amp; Columbus Ave</td>\n",
       "      <td>40.788221</td>\n",
       "      <td>-73.970416</td>\n",
       "      <td>15839</td>\n",
       "      <td>Subscriber</td>\n",
       "      <td>1971</td>\n",
       "      <td>1</td>\n",
       "    </tr>\n",
       "    <tr>\n",
       "      <td>1</td>\n",
       "      <td>316</td>\n",
       "      <td>2019-01-01 00:04:43.7360</td>\n",
       "      <td>2019-01-01 00:10:00.6080</td>\n",
       "      <td>519.0</td>\n",
       "      <td>Pershing Square North</td>\n",
       "      <td>40.751873</td>\n",
       "      <td>-73.977706</td>\n",
       "      <td>518.0</td>\n",
       "      <td>E 39 St &amp; 2 Ave</td>\n",
       "      <td>40.747804</td>\n",
       "      <td>-73.973442</td>\n",
       "      <td>32723</td>\n",
       "      <td>Subscriber</td>\n",
       "      <td>1964</td>\n",
       "      <td>1</td>\n",
       "    </tr>\n",
       "    <tr>\n",
       "      <td>2</td>\n",
       "      <td>591</td>\n",
       "      <td>2019-01-01 00:06:03.9970</td>\n",
       "      <td>2019-01-01 00:15:55.4380</td>\n",
       "      <td>3171.0</td>\n",
       "      <td>Amsterdam Ave &amp; W 82 St</td>\n",
       "      <td>40.785247</td>\n",
       "      <td>-73.976673</td>\n",
       "      <td>3154.0</td>\n",
       "      <td>E 77 St &amp; 3 Ave</td>\n",
       "      <td>40.773142</td>\n",
       "      <td>-73.958562</td>\n",
       "      <td>27451</td>\n",
       "      <td>Subscriber</td>\n",
       "      <td>1987</td>\n",
       "      <td>1</td>\n",
       "    </tr>\n",
       "    <tr>\n",
       "      <td>3</td>\n",
       "      <td>2719</td>\n",
       "      <td>2019-01-01 00:07:03.5450</td>\n",
       "      <td>2019-01-01 00:52:22.6500</td>\n",
       "      <td>504.0</td>\n",
       "      <td>1 Ave &amp; E 16 St</td>\n",
       "      <td>40.732219</td>\n",
       "      <td>-73.981656</td>\n",
       "      <td>3709.0</td>\n",
       "      <td>W 15 St &amp; 6 Ave</td>\n",
       "      <td>40.738046</td>\n",
       "      <td>-73.996430</td>\n",
       "      <td>21579</td>\n",
       "      <td>Subscriber</td>\n",
       "      <td>1990</td>\n",
       "      <td>1</td>\n",
       "    </tr>\n",
       "    <tr>\n",
       "      <td>4</td>\n",
       "      <td>303</td>\n",
       "      <td>2019-01-01 00:07:35.9450</td>\n",
       "      <td>2019-01-01 00:12:39.5020</td>\n",
       "      <td>229.0</td>\n",
       "      <td>Great Jones St</td>\n",
       "      <td>40.727434</td>\n",
       "      <td>-73.993790</td>\n",
       "      <td>503.0</td>\n",
       "      <td>E 20 St &amp; Park Ave</td>\n",
       "      <td>40.738274</td>\n",
       "      <td>-73.987520</td>\n",
       "      <td>35379</td>\n",
       "      <td>Subscriber</td>\n",
       "      <td>1979</td>\n",
       "      <td>1</td>\n",
       "    </tr>\n",
       "  </tbody>\n",
       "</table>\n",
       "</div>"
      ],
      "text/plain": [
       "   tripduration                 starttime                  stoptime  \\\n",
       "0           320  2019-01-01 00:01:47.4010  2019-01-01 00:07:07.5810   \n",
       "1           316  2019-01-01 00:04:43.7360  2019-01-01 00:10:00.6080   \n",
       "2           591  2019-01-01 00:06:03.9970  2019-01-01 00:15:55.4380   \n",
       "3          2719  2019-01-01 00:07:03.5450  2019-01-01 00:52:22.6500   \n",
       "4           303  2019-01-01 00:07:35.9450  2019-01-01 00:12:39.5020   \n",
       "\n",
       "   start station id           start station name  start station latitude  \\\n",
       "0            3160.0  Central Park West & W 76 St               40.778968   \n",
       "1             519.0        Pershing Square North               40.751873   \n",
       "2            3171.0      Amsterdam Ave & W 82 St               40.785247   \n",
       "3             504.0              1 Ave & E 16 St               40.732219   \n",
       "4             229.0               Great Jones St               40.727434   \n",
       "\n",
       "   start station longitude  end station id        end station name  \\\n",
       "0               -73.973747          3283.0  W 89 St & Columbus Ave   \n",
       "1               -73.977706           518.0         E 39 St & 2 Ave   \n",
       "2               -73.976673          3154.0         E 77 St & 3 Ave   \n",
       "3               -73.981656          3709.0         W 15 St & 6 Ave   \n",
       "4               -73.993790           503.0      E 20 St & Park Ave   \n",
       "\n",
       "   end station latitude  end station longitude  bikeid    usertype  \\\n",
       "0             40.788221             -73.970416   15839  Subscriber   \n",
       "1             40.747804             -73.973442   32723  Subscriber   \n",
       "2             40.773142             -73.958562   27451  Subscriber   \n",
       "3             40.738046             -73.996430   21579  Subscriber   \n",
       "4             40.738274             -73.987520   35379  Subscriber   \n",
       "\n",
       "   birth year  gender  \n",
       "0        1971       1  \n",
       "1        1964       1  \n",
       "2        1987       1  \n",
       "3        1990       1  \n",
       "4        1979       1  "
      ]
     },
     "execution_count": 5,
     "metadata": {},
     "output_type": "execute_result"
    }
   ],
   "source": [
    "#2019 citibike\n",
    "print(bike_2019_df.shape)\n",
    "bike_2019_df.head()\n"
   ]
  },
  {
   "cell_type": "code",
   "execution_count": 6,
   "metadata": {},
   "outputs": [],
   "source": [
    "#Add Hyphens to bike df column names\n",
    "bike_2019_df.columns= pd.Series(bike_2019_df.columns).str.replace(\" \",\"_\")\n",
    "bike_2020_df.columns = pd.Series(bike_2020_df.columns).str.replace(\" \",\"_\")"
   ]
  },
  {
   "cell_type": "code",
   "execution_count": 12,
   "metadata": {},
   "outputs": [
    {
     "data": {
      "text/plain": [
       "'###2020 year, month,days\\n\\nbike_2020_df[\"YEAR\"] =  bike_2020_df[\"DATE_TIME\"].dt.year\\nbike_2020_df[\"MONTH\"] =  bike_2020_df[\"DATE_TIME\"].dt.month\\nbike_2020_df[\"DAY\"] =  bike_2020_df[\"DATE_TIME\"].dt.day\\nbike_2020_df[\"DATE\"] =  bike_2020_df[\"DATE_TIME\"].dt.date\\nbike_2020_df[\"WEEK\"] =  bike_2020_df[\"DATE_TIME\"].dt.week\\n\\n#2019 year, month,days\\nbike_2019_df[\"YEAR\"] =  bike_2019_df[\"DATE_TIME\"].dt.year\\nbike_2019_df[\"MONTH\"] =  bike_2019_df[\"DATE_TIME\"].dt.month\\nbike_2019_df[\"DAY\"] =  bike_2019_df[\"DATE_TIME\"].dt.day\\nbike_2019_df[\"DATE\"] =  bike_2019_df[\"DATE_TIME\"].dt.date\\nbike_2019_df[\"WEEK\"] =  bike_2019_df[\"DATE_TIME\"].dt.week\\n'"
      ]
     },
     "execution_count": 12,
     "metadata": {},
     "output_type": "execute_result"
    }
   ],
   "source": [
    "#create time columns for bike \n",
    "bike_2019_df[\"DATE_TIME\"] = pd.to_datetime(bike_2019_df[\"starttime\"])\n",
    "bike_2020_df[\"DATE_TIME\"] =  pd.to_datetime(bike_2020_df[\"starttime\"])\n",
    "\n",
    "bike_2020_df[\"DATE\"] =  bike_2020_df[\"DATE_TIME\"].dt.date\n",
    "bike_2019_df[\"DATE\"] =  bike_2019_df[\"DATE_TIME\"].dt.date\n"
   ]
  },
  {
   "cell_type": "markdown",
   "metadata": {},
   "source": [
    "# 2019 - 2020 Daily % Changes in Bike Rides"
   ]
  },
  {
   "cell_type": "code",
   "execution_count": 139,
   "metadata": {},
   "outputs": [
    {
     "name": "stdout",
     "output_type": "stream",
     "text": [
      "(151, 3)\n"
     ]
    },
    {
     "data": {
      "text/html": [
       "<div>\n",
       "<style scoped>\n",
       "    .dataframe tbody tr th:only-of-type {\n",
       "        vertical-align: middle;\n",
       "    }\n",
       "\n",
       "    .dataframe tbody tr th {\n",
       "        vertical-align: top;\n",
       "    }\n",
       "\n",
       "    .dataframe thead th {\n",
       "        text-align: right;\n",
       "    }\n",
       "</style>\n",
       "<table border=\"1\" class=\"dataframe\">\n",
       "  <thead>\n",
       "    <tr style=\"text-align: right;\">\n",
       "      <th></th>\n",
       "      <th>DATE_TIME</th>\n",
       "      <th>DAILY_RIDES_19</th>\n",
       "      <th>MONTH_DAY</th>\n",
       "    </tr>\n",
       "  </thead>\n",
       "  <tbody>\n",
       "    <tr>\n",
       "      <td>0</td>\n",
       "      <td>2019-01-01</td>\n",
       "      <td>21962</td>\n",
       "      <td>01-01</td>\n",
       "    </tr>\n",
       "    <tr>\n",
       "      <td>1</td>\n",
       "      <td>2019-01-02</td>\n",
       "      <td>37797</td>\n",
       "      <td>01-02</td>\n",
       "    </tr>\n",
       "    <tr>\n",
       "      <td>2</td>\n",
       "      <td>2019-01-03</td>\n",
       "      <td>41676</td>\n",
       "      <td>01-03</td>\n",
       "    </tr>\n",
       "    <tr>\n",
       "      <td>3</td>\n",
       "      <td>2019-01-04</td>\n",
       "      <td>43922</td>\n",
       "      <td>01-04</td>\n",
       "    </tr>\n",
       "    <tr>\n",
       "      <td>4</td>\n",
       "      <td>2019-01-05</td>\n",
       "      <td>17432</td>\n",
       "      <td>01-05</td>\n",
       "    </tr>\n",
       "  </tbody>\n",
       "</table>\n",
       "</div>"
      ],
      "text/plain": [
       "    DATE_TIME  DAILY_RIDES_19 MONTH_DAY\n",
       "0  2019-01-01           21962     01-01\n",
       "1  2019-01-02           37797     01-02\n",
       "2  2019-01-03           41676     01-03\n",
       "3  2019-01-04           43922     01-04\n",
       "4  2019-01-05           17432     01-05"
      ]
     },
     "execution_count": 139,
     "metadata": {},
     "output_type": "execute_result"
    }
   ],
   "source": [
    "#Get the daily rides for 2019\n",
    "\n",
    "bike_2019_daily = bike_2019_df.groupby(bike_2019_df.DATE_TIME.dt.date)['DATE'].count().reset_index().rename(columns={\"DATE\":\"DAILY_RIDES\"})\n",
    "bike_2019_daily['MONTH_DAY']=pd.to_datetime(bike_2019_daily['DATE_TIME']).dt.strftime('%m-%d')\n",
    "bike_2019_daily.rename(columns={\"DAILY_RIDES\":\"DAILY_RIDES_19\"},inplace=True)\n",
    "print(bike_2019_daily.shape)\n",
    "\n",
    "bike_2019_daily.head()"
   ]
  },
  {
   "cell_type": "code",
   "execution_count": 131,
   "metadata": {},
   "outputs": [
    {
     "name": "stdout",
     "output_type": "stream",
     "text": [
      "(152, 3)\n"
     ]
    },
    {
     "data": {
      "text/html": [
       "<div>\n",
       "<style scoped>\n",
       "    .dataframe tbody tr th:only-of-type {\n",
       "        vertical-align: middle;\n",
       "    }\n",
       "\n",
       "    .dataframe tbody tr th {\n",
       "        vertical-align: top;\n",
       "    }\n",
       "\n",
       "    .dataframe thead th {\n",
       "        text-align: right;\n",
       "    }\n",
       "</style>\n",
       "<table border=\"1\" class=\"dataframe\">\n",
       "  <thead>\n",
       "    <tr style=\"text-align: right;\">\n",
       "      <th></th>\n",
       "      <th>DATE_TIME</th>\n",
       "      <th>DAILY_RIDES_20</th>\n",
       "      <th>MONTH_DAY</th>\n",
       "    </tr>\n",
       "  </thead>\n",
       "  <tbody>\n",
       "    <tr>\n",
       "      <td>0</td>\n",
       "      <td>2020-01-01</td>\n",
       "      <td>18114</td>\n",
       "      <td>01-01</td>\n",
       "    </tr>\n",
       "    <tr>\n",
       "      <td>1</td>\n",
       "      <td>2020-01-02</td>\n",
       "      <td>41556</td>\n",
       "      <td>01-02</td>\n",
       "    </tr>\n",
       "    <tr>\n",
       "      <td>2</td>\n",
       "      <td>2020-01-03</td>\n",
       "      <td>31873</td>\n",
       "      <td>01-03</td>\n",
       "    </tr>\n",
       "    <tr>\n",
       "      <td>3</td>\n",
       "      <td>2020-01-04</td>\n",
       "      <td>29436</td>\n",
       "      <td>01-04</td>\n",
       "    </tr>\n",
       "    <tr>\n",
       "      <td>4</td>\n",
       "      <td>2020-01-05</td>\n",
       "      <td>27589</td>\n",
       "      <td>01-05</td>\n",
       "    </tr>\n",
       "  </tbody>\n",
       "</table>\n",
       "</div>"
      ],
      "text/plain": [
       "    DATE_TIME  DAILY_RIDES_20 MONTH_DAY\n",
       "0  2020-01-01           18114     01-01\n",
       "1  2020-01-02           41556     01-02\n",
       "2  2020-01-03           31873     01-03\n",
       "3  2020-01-04           29436     01-04\n",
       "4  2020-01-05           27589     01-05"
      ]
     },
     "execution_count": 131,
     "metadata": {},
     "output_type": "execute_result"
    }
   ],
   "source": [
    "#Get the daily rides for 2020\n",
    "bike_2020_daily = bike_2020_df.groupby(bike_2020_df.DATE_TIME.dt.date)['DATE'].count().reset_index().rename(columns={\"DATE\":\"DAILY_RIDES\"})\n",
    "bike_2020_daily.rename(columns={\"DAILY_RIDES\":\"DAILY_RIDES_20\"},inplace=True)\n",
    "bike_2020_daily['MONTH_DAY']=pd.to_datetime(bike_2020_daily['DATE_TIME']).dt.strftime('%m-%d')\n",
    "print(bike_2020_daily.shape)\n",
    "bike_2020_daily.head()"
   ]
  },
  {
   "cell_type": "code",
   "execution_count": null,
   "metadata": {},
   "outputs": [],
   "source": []
  },
  {
   "cell_type": "code",
   "execution_count": 83,
   "metadata": {},
   "outputs": [
    {
     "data": {
      "text/plain": [
       "Index(['DATE_TIME', 'DAILY_RIDES_19'], dtype='object')"
      ]
     },
     "execution_count": 83,
     "metadata": {},
     "output_type": "execute_result"
    }
   ],
   "source": [
    "\n"
   ]
  },
  {
   "cell_type": "code",
   "execution_count": 161,
   "metadata": {
    "scrolled": true
   },
   "outputs": [],
   "source": [
    "bike_2019_2020_daily = bike_2019_daily.merge(bike_2020_daily,suffixes=('_19','_20'),on=\"MONTH_DAY\")\n",
    "\n",
    "bike_2019_2020_daily_pct_diff = bike_2019_2020_daily[['DAILY_RIDES_19','DAILY_RIDES_20']].agg(pd.DataFrame.pct_change,axis=\"columns\")\n",
    "\n",
    "bike_2019_2020_daily_pct_diff= bike_2019_2020_daily_pct_diff.rename(columns={\"DAILY_RIDES_20\":\"PNCT_CHANGE_19_20\"})\n",
    "\n",
    "bike_2019_2020_daily_pct_diff = pd.concat([bike_2019_2020_daily_pct_diff,bike_2019_2020_daily['MONTH_DAY']],axis=1)"
   ]
  },
  {
   "cell_type": "code",
   "execution_count": 181,
   "metadata": {},
   "outputs": [
    {
     "data": {
      "text/html": [
       "<div>\n",
       "<style scoped>\n",
       "    .dataframe tbody tr th:only-of-type {\n",
       "        vertical-align: middle;\n",
       "    }\n",
       "\n",
       "    .dataframe tbody tr th {\n",
       "        vertical-align: top;\n",
       "    }\n",
       "\n",
       "    .dataframe thead th {\n",
       "        text-align: right;\n",
       "    }\n",
       "</style>\n",
       "<table border=\"1\" class=\"dataframe\">\n",
       "  <thead>\n",
       "    <tr style=\"text-align: right;\">\n",
       "      <th></th>\n",
       "      <th>DAILY_RIDES_19</th>\n",
       "      <th>PNCT_CHANGE_19_20</th>\n",
       "      <th>MONTH_DAY</th>\n",
       "    </tr>\n",
       "  </thead>\n",
       "  <tbody>\n",
       "    <tr>\n",
       "      <td>0</td>\n",
       "      <td>NaN</td>\n",
       "      <td>-0.175212</td>\n",
       "      <td>01-01</td>\n",
       "    </tr>\n",
       "    <tr>\n",
       "      <td>1</td>\n",
       "      <td>NaN</td>\n",
       "      <td>0.099452</td>\n",
       "      <td>01-02</td>\n",
       "    </tr>\n",
       "    <tr>\n",
       "      <td>2</td>\n",
       "      <td>NaN</td>\n",
       "      <td>-0.235219</td>\n",
       "      <td>01-03</td>\n",
       "    </tr>\n",
       "    <tr>\n",
       "      <td>3</td>\n",
       "      <td>NaN</td>\n",
       "      <td>-0.329812</td>\n",
       "      <td>01-04</td>\n",
       "    </tr>\n",
       "    <tr>\n",
       "      <td>4</td>\n",
       "      <td>NaN</td>\n",
       "      <td>0.582664</td>\n",
       "      <td>01-05</td>\n",
       "    </tr>\n",
       "  </tbody>\n",
       "</table>\n",
       "</div>"
      ],
      "text/plain": [
       "   DAILY_RIDES_19  PNCT_CHANGE_19_20 MONTH_DAY\n",
       "0             NaN          -0.175212     01-01\n",
       "1             NaN           0.099452     01-02\n",
       "2             NaN          -0.235219     01-03\n",
       "3             NaN          -0.329812     01-04\n",
       "4             NaN           0.582664     01-05"
      ]
     },
     "execution_count": 181,
     "metadata": {},
     "output_type": "execute_result"
    }
   ],
   "source": [
    "bike_2019_2020_daily_pct_diff.head()"
   ]
  },
  {
   "cell_type": "code",
   "execution_count": 222,
   "metadata": {},
   "outputs": [
    {
     "data": {
      "text/plain": [
       "0     2020-01-01\n",
       "1     2020-01-02\n",
       "2     2020-01-03\n",
       "3     2020-01-04\n",
       "4     2020-01-05\n",
       "         ...    \n",
       "146   2020-05-27\n",
       "147   2020-05-28\n",
       "148   2020-05-29\n",
       "149   2020-05-30\n",
       "150   2020-05-31\n",
       "Name: MONTH_DAY, Length: 151, dtype: datetime64[ns]"
      ]
     },
     "execution_count": 222,
     "metadata": {},
     "output_type": "execute_result"
    }
   ],
   "source": [
    "#create x axis\n",
    "x_axis_days =pd.to_datetime('20-'+bike_2019_2020_daily_pct_diff.MONTH_DAY,format=\"%y-%m-%d\",yearfirst=False)\n",
    "x_axis_days"
   ]
  },
  {
   "cell_type": "code",
   "execution_count": 342,
   "metadata": {},
   "outputs": [
    {
     "data": {
      "text/plain": [
       "[<matplotlib.lines.Line2D at 0xd9c17c09c8>]"
      ]
     },
     "execution_count": 342,
     "metadata": {},
     "output_type": "execute_result"
    },
    {
     "data": {
      "image/png": "[encoded data removed]",
      "text/plain": [
       "<Figure size 1080x216 with 1 Axes>"
      ]
     },
     "metadata": {
      "needs_background": "light"
     },
     "output_type": "display_data"
    }
   ],
   "source": [
    "import matplotlib.dates as mdates\n",
    "\n",
    "months = mdates.DateFormatter('%M')\n",
    "\n",
    "#15 days to slow spread announcement date\n",
    "social_dist_date_index = x_axis_days[x_axis_days==\"2020-03-16\"].index\n",
    "travel_ban_date_index = x_axis_days[x_axis_days==\"2020-03-11\"].index\n",
    "\n",
    "plt.figure(figsize=[15,3])\n",
    "\n",
    "ax.xaxis.set_major_formatter(months)\n",
    "plt.xticks(rotation=45)\n",
    "\n",
    "\n",
    "#Annotate 15 days to slow the spread\n",
    "plt.annotate(s=\"15 Days\",xy=(x_axis_days[social_dist_date_index],bike_2019_2020_daily_pct_diff['PNCT_CHANGE_19_20'][social_dist_date_index]),\n",
    "             xycoords='data',\n",
    "             xytext=(-24,-30),\n",
    "              textcoords=\"offset points\",\n",
    "             arrowprops=dict(facecolor='black', shrink=0.01, headlength=5, ))\n",
    "\n",
    "#Annotate EU Travel Ban \n",
    "plt.annotate(s=\"EU Travel Ban\",\n",
    "    xy=(\n",
    "    x_axis_days[travel_ban_date_index],bike_2019_2020_daily_pct_diff['PNCT_CHANGE_19_20'][travel_ban_date_index]),\n",
    "    xytext=(-90,-30),\n",
    "    xycoords='data',\n",
    "    textcoords=\"offset points\",\n",
    "    arrowprops=dict(facecolor='black', shrink=0.01, headlength=5, ))\n",
    "\n",
    "\n",
    "plt.title(\"Daily % Change Citibike Rides '19-'20\")\n",
    "plt.xlabel('Date')\n",
    "plt.ylabel(\"Percent Change '19-'20\")\n",
    "\n",
    "\n",
    "\n",
    "plt.plot(x_axis_days,bike_2019_2020_daily_pct_diff['PNCT_CHANGE_19_20'])"
   ]
  },
  {
   "cell_type": "code",
   "execution_count": null,
   "metadata": {},
   "outputs": [],
   "source": []
  },
  {
   "cell_type": "code",
   "execution_count": null,
   "metadata": {},
   "outputs": [],
   "source": []
  },
  {
   "cell_type": "markdown",
   "metadata": {},
   "source": [
    "# Get MTA Station Coordinates"
   ]
  },
  {
   "cell_type": "code",
   "execution_count": null,
   "metadata": {},
   "outputs": [],
   "source": [
    "# Get the unique list of Stations \n",
    "\n",
    "station_info_df = pd.read_csv(\"data/stations.txt\")\n",
    "station_info_df_small = station_info_df[['Stop Name','GTFS Latitude','GTFS Longitude']]\n",
    "station_info_df_small = station_info_df_small.drop_duplicates(subset=\"Stop Name\")\n",
    "station_info_df"
   ]
  },
  {
   "cell_type": "code",
   "execution_count": null,
   "metadata": {},
   "outputs": [],
   "source": [
    "station_info_df.head()"
   ]
  },
  {
   "cell_type": "code",
   "execution_count": null,
   "metadata": {},
   "outputs": [],
   "source": [
    "station_info_df[station_info_df[\"Stop Name\"]=='WTC Cortlandt']"
   ]
  },
  {
   "cell_type": "code",
   "execution_count": null,
   "metadata": {},
   "outputs": [],
   "source": [
    "\n",
    "print(f'{station_info_df_small.shape} Shape of Station info data frame')\n",
    "station_info_df_small.head()"
   ]
  },
  {
   "cell_type": "code",
   "execution_count": null,
   "metadata": {},
   "outputs": [],
   "source": [
    "#create dictionary of stations and their latitudes and longitude\n",
    "\n",
    "\n",
    "station_info_dict={d['Stop Name']: (d['GTFS Latitude'],d['GTFS Longitude']) for d in station_info_df_small.to_dict(orient='records')}\n",
    "\n",
    "#Look in the dictionary\n",
    "print(f'Some Keys of this dictionary {list(station_info_dict.keys())[:5]}\\n')\n",
    "\n",
    "print(f'Some Values of this dictionary {list(station_info_dict.values())[:5]}')\n",
    "\n",
    "\n"
   ]
  },
  {
   "cell_type": "code",
   "execution_count": null,
   "metadata": {},
   "outputs": [],
   "source": [
    "station_info_df.head()"
   ]
  },
  {
   "cell_type": "code",
   "execution_count": null,
   "metadata": {},
   "outputs": [],
   "source": [
    "#create function to find_closest mta station\n",
    "def find_closest_mta_station(latitude,longitude):\n",
    "    station_distances =  {mta_station:great_circle(station_info_dict[mta_station],(latitude,longitude)).miles for mta_station in station_info_dict} \n",
    "    min_station = min(station_distances,key=station_distances.get)\n",
    "    return min_station\n",
    "    \n",
    "\n",
    "\n",
    "\n",
    "\n",
    "\n"
   ]
  },
  {
   "cell_type": "code",
   "execution_count": null,
   "metadata": {},
   "outputs": [],
   "source": []
  },
  {
   "cell_type": "code",
   "execution_count": null,
   "metadata": {},
   "outputs": [],
   "source": [
    "#create unique starting and ending bike stations df so we can find the closest MTA stations more quickly\n",
    "\n",
    "unique_bike_stations_df_2019_start = bike_2019_df.drop_duplicates(subset=[\"start_station_name\"])\n",
    "unique_bike_stations_df_2019_end = bike_2019_df.drop_duplicates(subset=[\"end_station_name\"])\n",
    "\n",
    "unique_bike_stations_df_2020_start = bike_2020_df.drop_duplicates(subset=[\"start_station_name\"])\n",
    "unique_bike_stations_df_2020_end = bike_2020_df.drop_duplicates(subset=[\"end_station_name\"])\n",
    "\n",
    "\n",
    "unique_bike_stations_df_2019_start = unique_bike_stations_df_2019_start[['start_station_name','start_station_latitude','start_station_longitude']]\n",
    "unique_bike_stations_df_2019_end = unique_bike_stations_df_2019_end[['end_station_name','end_station_latitude','end_station_longitude']]\n",
    "\n",
    "unique_bike_stations_df_2020_start = unique_bike_stations_df_2020_start[['start_station_name','start_station_latitude','start_station_longitude']]\n",
    "unique_bike_stations_df_2020_end = unique_bike_stations_df_2020_end[['end_station_name','end_station_latitude','end_station_longitude']]"
   ]
  },
  {
   "cell_type": "code",
   "execution_count": null,
   "metadata": {},
   "outputs": [],
   "source": [
    "#unique bike stations in one df \n",
    "unique_bike_stations_start = pd.concat([unique_bike_stations_df_2019_start,unique_bike_stations_df_2020_start]).drop_duplicates(subset=\"start_station_name\")\n",
    "\n",
    "unique_bike_stations_end = pd.concat([unique_bike_stations_df_2019_end,unique_bike_stations_df_2020_end]).drop_duplicates(subset=\"end_station_name\")\n",
    "\n",
    "unique_bike_stations_start.head()\n",
    "unique_bike_stations_end.head()"
   ]
  },
  {
   "cell_type": "markdown",
   "metadata": {},
   "source": [
    "# Determine Bike Stations closest to MTA Stations"
   ]
  },
  {
   "cell_type": "code",
   "execution_count": null,
   "metadata": {},
   "outputs": [],
   "source": [
    "unique_bike_stations_start['closest_mta_start']=unique_bike_stations_start.apply(lambda x:find_closest_mta_station(x['start_station_latitude'],x['start_station_longitude']),axis=1)\n",
    "unique_bike_stations_end['closest_mta_end']=unique_bike_stations_end.apply(lambda x:find_closest_mta_station(x['end_station_latitude'],x['end_station_longitude']),axis=1)\n",
    "\n"
   ]
  },
  {
   "cell_type": "code",
   "execution_count": null,
   "metadata": {},
   "outputs": [],
   "source": [
    "#We now have the end stations name with the closest mta station\n",
    "\n",
    "print(unique_bike_stations_end.shape)\n",
    "print(unique_bike_stations_end.closest_mta_end.nunique())\n",
    "unique_bike_stations_end.head(25)\n"
   ]
  },
  {
   "cell_type": "code",
   "execution_count": null,
   "metadata": {},
   "outputs": [],
   "source": [
    "print(unique_bike_stations_start.shape)\n",
    "print(unique_bike_stations_start.closest_mta_start.nunique())\n",
    "\n",
    "unique_bike_stations_start.head()"
   ]
  },
  {
   "cell_type": "code",
   "execution_count": null,
   "metadata": {},
   "outputs": [],
   "source": [
    "#Add closested mta_station to bike df\n"
   ]
  },
  {
   "cell_type": "code",
   "execution_count": null,
   "metadata": {},
   "outputs": [],
   "source": [
    "bike_2019_df_mta = bike_2019_df.merge(unique_bike_stations_start,on=[\"start_station_name\",\"start_station_latitude\",'start_station_longitude'],how=\"left\")\n",
    "bike_2019_df_mta = bike_2019_df_mta.merge(unique_bike_stations_end,on=[\"end_station_name\",\"end_station_latitude\",'end_station_longitude'],how=\"left\")\n",
    "print(bike_2019_df_mta.shape)\n",
    "bike_2019_df_mta.head()"
   ]
  },
  {
   "cell_type": "code",
   "execution_count": null,
   "metadata": {},
   "outputs": [],
   "source": [
    "bike_2020_df_mta = bike_2020_df.merge(unique_bike_stations_start,on=[\"start_station_name\",\"start_station_latitude\",'start_station_longitude'],how=\"left\")\n",
    "bike_2020_df_mta = bike_2020_df_mta.merge(unique_bike_stations_end,on=[\"end_station_name\",\"end_station_latitude\",'end_station_longitude'],how=\"left\")\n",
    "print(bike_2020_df_mta.shape)\n",
    "bike_2020_df_mta.head()"
   ]
  },
  {
   "cell_type": "markdown",
   "metadata": {},
   "source": [
    "# Create JANUARY - MAY 2019,2020 MTA Data Frame"
   ]
  },
  {
   "cell_type": "code",
   "execution_count": null,
   "metadata": {},
   "outputs": [],
   "source": [
    "\n",
    "\n",
    "#Get 2019,2020 MTA into dataframes\n",
    "\n",
    "df_list_2020=[]\n",
    "for filename in glob.iglob('data/turnstile_mta/2020/**.txt', recursive=True):\n",
    "    if os.path.isfile(filename): # filter dirs\n",
    "        df_list_2020.append(pd.read_csv(filename))\n",
    "        \n",
    "        \n",
    "df_list_2019=[]\n",
    "for filename in glob.iglob('data/turnstile_mta/2019/**.txt', recursive=True):\n",
    "    if os.path.isfile(filename): # filter dirs\n",
    "        df_list_2019.append(pd.read_csv(filename))\n",
    "        \n",
    "\n",
    "\n"
   ]
  },
  {
   "cell_type": "code",
   "execution_count": null,
   "metadata": {},
   "outputs": [],
   "source": [
    "# Create 2019,2020 dataframes\n",
    "mta_2020_df = pd.concat(df_list_2020)\n",
    "mta_2019_df = pd.concat(df_list_2019)\n",
    "\n"
   ]
  },
  {
   "cell_type": "code",
   "execution_count": null,
   "metadata": {},
   "outputs": [],
   "source": [
    "print(mta_2020_df.shape)\n",
    "mta_2020_df.head()\n"
   ]
  },
  {
   "cell_type": "code",
   "execution_count": null,
   "metadata": {},
   "outputs": [],
   "source": [
    "print(mta_2019_df.shape)\n",
    "mta_2019_df.head()\n"
   ]
  },
  {
   "cell_type": "code",
   "execution_count": null,
   "metadata": {},
   "outputs": [],
   "source": [
    "#get rid of entries that are zero\n",
    "mta_2019_df = mta_2019_df[mta_2019_df.ENTRIES > 0]\n",
    "mta_2020_df = mta_2020_df[mta_2020_df.ENTRIES > 0]\n",
    "\n",
    "print(f'{mta_2019_df.shape} MTA_2019 Shape')\n",
    "print(f'{mta_2020_df.shape} MTA 2020 Shape')"
   ]
  },
  {
   "cell_type": "code",
   "execution_count": null,
   "metadata": {},
   "outputs": [],
   "source": [
    "#create time columns for mta\n",
    "mta_2019_df[\"DATE\"] = pd.to_datetime(mta_2019_df[\"DATE\"])\n",
    "mta_2019_df[\"HOUR\"] = pd.to_datetime(mta_2019_df[\"TIME\"],format=\"%H:%M:%S\").dt.hour\n",
    "mta_2019_df[\"WEEK\"] = mta_2019_df[\"DATE\"].dt.week\n",
    "mta_2019_df[\"MONTH\"] = mta_2019_df[\"DATE\"].dt.month\n",
    "\n",
    "mta_2020_df[\"DATE\"] = pd.to_datetime(mta_2020_df[\"DATE\"])\n",
    "mta_2020_df[\"HOUR\"] = pd.to_datetime(mta_2020_df[\"TIME\"],format=\"%H:%M:%S\").dt.hour\n",
    "mta_2020_df[\"WEEK\"] = mta_2020_df[\"DATE\"].dt.week\n",
    "mta_2020_df[\"MONTH\"] = mta_2020_df[\"DATE\"].dt.month\n"
   ]
  },
  {
   "cell_type": "code",
   "execution_count": null,
   "metadata": {},
   "outputs": [],
   "source": [
    "#exits columns title has many spaces after, make new column with correct name\n",
    "mta_2019_df['EXITS']=mta_2019_df.iloc[:,10]\n",
    "mta_2020_df['EXITS']=mta_2020_df.iloc[:,10]\n",
    "\n",
    "mta_2019_df = mta_2019_df.drop(columns=mta_2019_df.columns.to_list()[10])\n",
    "mta_2020_df = mta_2020_df.drop(columns=mta_2020_df.columns.to_list()[10])"
   ]
  },
  {
   "cell_type": "markdown",
   "metadata": {},
   "source": [
    "# CitiBike / MTA map"
   ]
  },
  {
   "cell_type": "code",
   "execution_count": null,
   "metadata": {},
   "outputs": [],
   "source": [
    "bike_2019_df_mta[['start_station_latitude','start_station_longitude','end_station_latitude','end_station_longitude']]"
   ]
  },
  {
   "cell_type": "code",
   "execution_count": null,
   "metadata": {},
   "outputs": [],
   "source": [
    "#geo data frame with coordinates\n",
    "\n",
    "\n",
    "\n",
    "#Get GeoSeries for 2019 Starting\n",
    "bike_2019_geo_df_mta_start = geopandas.GeoDataFrame(\n",
    "bike_2019_df_mta, geometry=geopandas.points_from_xy(bike_2019_df_mta.start_station_longitude, bike_2019_df_mta.start_station_latitude))\n",
    "\n",
    "starting_bike_stations_2019 =  geopandas.GeoSeries(bike_2019_geo_df_mta_start.iloc[:,-1])\n",
    "\n",
    "#Get Geo Series for 2019 Ending\n",
    "\n",
    "bike_2019_geo_df_mta_end = geopandas.GeoDataFrame(\n",
    "bike_2019_df_mta, geometry=geopandas.points_from_xy(bike_2019_df_mta.end_station_longitude, bike_2019_df_mta.end_station_latitude))\n",
    "\n",
    "\n",
    "ending_bike_stations_2019 = geopandas.GeoSeries(bike_2019_geo_df_mta_end.iloc[:,-1])\n"
   ]
  },
  {
   "cell_type": "code",
   "execution_count": null,
   "metadata": {},
   "outputs": [],
   "source": []
  },
  {
   "cell_type": "markdown",
   "metadata": {},
   "source": [
    "#reproject  \n",
    "bike_2019_geo_df_mta_start.crs = {'init' :'epsg:4326'}  \n",
    "bike_2019_geo_df_mta_start = bike_2019_geo_df_mta_start.to_crs(epsg=3857)\n",
    "\n",
    "bike_2019_geo_df_mta_end.crs = {'init' :'epsg:4326'}  \n",
    "bike_2019_geo_df_mta_end = bike_2019_geo_df_mta_end.to_crs(epsg=3857)"
   ]
  },
  {
   "cell_type": "code",
   "execution_count": null,
   "metadata": {},
   "outputs": [],
   "source": [
    "#Reproject Coordinate system so it matches our figure's projection system\n",
    "\n",
    "starting_bike_stations_2019.crs = {'init' :'epsg:4326'}\n",
    "starting_bike_stations_2019 = starting_bike_stations_2019.to_crs(epsg=3857)\n",
    "\n",
    "ending_bike_stations_2019.crs = {'init' :'epsg:4326'}\n",
    "ending_bike_stations_2019 = ending_bike_stations_2019.to_crs(epsg=3857)\n"
   ]
  },
  {
   "cell_type": "code",
   "execution_count": null,
   "metadata": {},
   "outputs": [],
   "source": []
  },
  {
   "cell_type": "code",
   "execution_count": null,
   "metadata": {},
   "outputs": [],
   "source": []
  },
  {
   "cell_type": "code",
   "execution_count": null,
   "metadata": {
    "scrolled": false
   },
   "outputs": [],
   "source": [
    "df = geopandas.read_file(geopandas.datasets.get_path('nybb'))\n",
    "\n",
    "df = df.to_crs(epsg=3857)\n",
    "\n",
    "ax = df.plot(figsize=(8, 8), alpha=0.2, edgecolor='k')\n",
    "\n",
    "starting_bike_stations_2019.plot(ax=ax,color=\"red\",markersize=5.0,marker=\"^\")\n",
    "ending_bike_stations_2019.plot(ax=ax,color=\"blue\",markersize=2.0,alpha=0.5,marker=\"v\")\n",
    "\n",
    "ctx.add_basemap(ax)\n",
    "\n",
    "plt.show()\n"
   ]
  },
  {
   "cell_type": "code",
   "execution_count": null,
   "metadata": {},
   "outputs": [],
   "source": [
    "gdf = geopandas.GeoDataFrame.from_file(\"data/shapefile/new_york\")\n",
    "\n",
    "\n",
    "gdf=gdf.to_crs(epsg=4326)"
   ]
  },
  {
   "cell_type": "code",
   "execution_count": null,
   "metadata": {},
   "outputs": [],
   "source": [
    "nj_gdf = geopandas.GeoDataFrame.from_file(\"data/shapefile/new_jersey\")"
   ]
  },
  {
   "cell_type": "code",
   "execution_count": null,
   "metadata": {},
   "outputs": [],
   "source": [
    "nj_gdf = nj_gdf.to_crs(epsg=4326)\n",
    "\n",
    "\n"
   ]
  },
  {
   "cell_type": "code",
   "execution_count": null,
   "metadata": {},
   "outputs": [],
   "source": [
    "fig,ax=plt.subplots(figsize=(10,10))\n",
    "gdf.plot(ax=ax,alpha=0.9,)"
   ]
  },
  {
   "cell_type": "code",
   "execution_count": null,
   "metadata": {},
   "outputs": [],
   "source": [
    "\n",
    "\n",
    "\n"
   ]
  },
  {
   "cell_type": "code",
   "execution_count": null,
   "metadata": {},
   "outputs": [],
   "source": []
  },
  {
   "cell_type": "code",
   "execution_count": null,
   "metadata": {},
   "outputs": [],
   "source": []
  },
  {
   "cell_type": "code",
   "execution_count": null,
   "metadata": {},
   "outputs": [],
   "source": []
  },
  {
   "cell_type": "code",
   "execution_count": null,
   "metadata": {},
   "outputs": [],
   "source": [
    "df['ENTRIES_DIFF']=( df.groupby(['STATION_ID','UNIT','SCP'],as_index=False)['ENTRIES']\n",
    "                           .transform(pd.Series.diff)['ENTRIES']\n",
    "                       )\n"
   ]
  },
  {
   "cell_type": "code",
   "execution_count": null,
   "metadata": {},
   "outputs": [],
   "source": []
  }
 ],
 "metadata": {
  "kernelspec": {
   "display_name": "Python 3",
   "language": "python",
   "name": "python3"
  },
  "language_info": {
   "codemirror_mode": {
    "name": "ipython",
    "version": 3
   },
   "file_extension": ".py",
   "mimetype": "text/x-python",
   "name": "python",
   "nbconvert_exporter": "python",
   "pygments_lexer": "ipython3",
   "version": "3.7.4"
  }
 },
 "nbformat": 4,
 "nbformat_minor": 2
}
